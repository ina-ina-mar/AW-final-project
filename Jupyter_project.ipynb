{
  "nbformat": 4,
  "nbformat_minor": 0,
  "metadata": {
    "colab": {
      "provenance": []
    },
    "kernelspec": {
      "name": "python3",
      "display_name": "Python 3"
    },
    "language_info": {
      "name": "python"
    }
  },
  "cells": [
    {
      "cell_type": "markdown",
      "source": [
        "# Linguistic Analysis of Text from a Website\n",
        "## 1. Introduction\n",
        "Throught this short interactive eassy, I will attempt to showcase a very basic linguistic analysis of text retrieved from a website. I chose this particular website due to its up-to-date status, its length, and the continuity of the discourse - many complex sentences with diverse parts of speech.\n",
        "\n",
        "The main focus is to identify the most represented part of speech (POS) in the analyzed text.\n"
      ],
      "metadata": {
        "id": "DL9JHG8kO9du"
      }
    },
    {
      "cell_type": "markdown",
      "source": [
        "## 2. Importing Necessary Libraries"
      ],
      "metadata": {
        "id": "Blk1pVzuPDpt"
      }
    },
    {
      "cell_type": "markdown",
      "source": [
        "In this section, let us **import** the necessary **libraries** to begin working with the text.\n",
        "\n",
        "* The **requests** library will allow me to retrieve data from the Internet.\n",
        "* The **BeautifulSoup** library will enable text parsing (HTML), which then facilitates data extraction.\n",
        "* The **nltk** library provides tools for tokenization and part-of-speech tagging.\n",
        "* The **matplotlib** library will allow for the visualization of the results from the previously conducted analysis."
      ],
      "metadata": {
        "id": "6Ky2SlWze7a9"
      }
    },
    {
      "cell_type": "code",
      "execution_count": null,
      "metadata": {
        "id": "imKt4Lm7MUzS"
      },
      "outputs": [],
      "source": [
        "import requests\n",
        "from bs4 import BeautifulSoup\n",
        "import nltk\n",
        "from nltk.tokenize import word_tokenize\n",
        "from nltk import pos_tag\n",
        "import matplotlib.pyplot as plt\n"
      ]
    },
    {
      "cell_type": "markdown",
      "source": [
        "## 3. Retrieving data from the website\n",
        "\n",
        "* This section retrieves the content of the webpage using the **requests** library and parses it with **BeautifulSoup**.\n",
        "* It extracts text from a specific HTML element identified by **#block-barrio-news-content**.\n",
        "* Finally, it prints the first 100 characters of this text to verify the correctness of the extraction."
      ],
      "metadata": {
        "id": "78p_yAKpM-2H"
      }
    },
    {
      "cell_type": "code",
      "source": [
        "page = requests.get(\"https://ug.edu.pl/news/en/7124/how-strengthen-digital-and-green-competencies-within-sea-eu/\")\n",
        "soup = BeautifulSoup(page.content, 'html.parser')\n",
        "\n",
        "# Retrieving text from website\n",
        "text = soup.select_one('#block-barrio-news-content').get_text()\n",
        "\n",
        "# Displaying the first 100 characters of the text for verification\n",
        "print(text[:100])\n"
      ],
      "metadata": {
        "colab": {
          "base_uri": "https://localhost:8080/"
        },
        "collapsed": true,
        "id": "gIsLevBjNAPy",
        "outputId": "514d5a30-1122-4d18-9f8a-65af383e5144"
      },
      "execution_count": null,
      "outputs": [
        {
          "output_type": "stream",
          "name": "stdout",
          "text": [
            "On June 5-7, the University of Gdańsk hosted the workshop ‘Developing digital, green, interdisciplinary, and innovative training pathways for SEA-EU 2.0.’ implemented in the framework of the SEA-EU European Coastal University.\n"
          ]
        }
      ]
    },
    {
      "cell_type": "markdown",
      "source": [
        "## 4. Data Cleaning and Preparation\n",
        "\n",
        "* The code here cleans the text by removing unnecessary characters and extra whitespace.\n",
        "* To do so, we must first import **regular expressions** library.\n",
        "* Once we've established the rules for the removal of unwanted characters, we can now print the first 1000 characters and verify the cleaning process."
      ],
      "metadata": {
        "id": "INdetyZ3NPja"
      }
    },
    {
      "cell_type": "code",
      "source": [
        "import re\n",
        "\n",
        "# Removing unnecessary characters\n",
        "clean_text = re.sub(r'\\s+', ' ', text)\n",
        "clean_text = re.sub(r'[^a-zA-Z\\s]', '', clean_text)\n",
        "\n",
        "# Displaying the first 1000 characters of the cleaned text\n",
        "print(clean_text[:1000])\n"
      ],
      "metadata": {
        "colab": {
          "base_uri": "https://localhost:8080/"
        },
        "id": "2j-09pEKNRwy",
        "outputId": "66ceed8b-c541-4cb9-df75-5e4da0d80177"
      },
      "execution_count": null,
      "outputs": [
        {
          "output_type": "stream",
          "name": "stdout",
          "text": [
            "  cooperation On June  the University of Gdask hosted the workshop Developing digital green interdisciplinary and innovative training pathways for SEAEU  implemented in the framework of the SEAEU European Coastal University The meeting at the Faculty of Mathematics Physics and Informatics was attended by  representatives of partner universities representing various units and competence centres supporting the teaching work of university teachers The aim of the meeting was to tentatively develop a concept of a training path tutoring and webinars to share competencies and experiences on contemporary challenges of teaching The meeting was jointly led by the University of Gdask team  dr Joanna Morawska coordinator of SEAEU Task  Fostering inclusive digital and green interdisciplinary and innovative training pathways and dr Irena Chawrilska and the NORD University team dr Vivi Marie Lademoe Storsletten dr Amsale Kassahun Temesgen Kaspar Bredahl Rasmussen We discussed not only how to understa\n"
          ]
        }
      ]
    },
    {
      "cell_type": "markdown",
      "source": [
        "## 5. Text Tokenization\n",
        "* Here, the following code tokenizes the cleaned text into individual words using the **word_tokenize** function from the **nltk** library.\n",
        "* Then, the first 50 tokens are printed to verify the tokenization process."
      ],
      "metadata": {
        "id": "j3B1yWJGNYv6"
      }
    },
    {
      "cell_type": "code",
      "source": [
        "tokens = word_tokenize(clean_text)\n",
        "\n",
        "# Displaying the first 50 tokens\n",
        "print(tokens[:50])"
      ],
      "metadata": {
        "colab": {
          "base_uri": "https://localhost:8080/"
        },
        "id": "_0kBRaRoNa6d",
        "outputId": "30d27582-2cc2-455f-893d-f84c8e7b3488"
      },
      "execution_count": null,
      "outputs": [
        {
          "output_type": "stream",
          "name": "stdout",
          "text": [
            "['Home', 'University', 'of', 'Gdask', 'Skip', 'to', 'main', 'content', 'EN', 'UniversityAbout', 'usAuthorities', 'and', 'AdministrationUG', 'Mission', 'and', 'StrategyFacts', 'and', 'FiguresUG', 'MapUG', 'Campus', 'and', 'its', 'developmentHistoryFaculties', 'and', 'other', 'unitsNewsEuropean', 'Charter', 'for', 'ResearchersIT', 'ServicesIncoming', 'studentsErasmus', 'CandidatesDoctoral', 'SchoolsFree', 'moversWhy', 'StudyUGStudyEducational', 'OfferStudy', 'GuideCulture', 'and', 'sportPolish', 'Language', 'CoursesEducation', 'Verification', 'RequestDisability', 'support', 'servicesContactStudent', 'homesResearchResearch', 'areasPublicationsInternational', 'agreementsConferencesHRSRResponsible', 'researchFarU', 'research']\n"
          ]
        }
      ]
    },
    {
      "cell_type": "markdown",
      "source": [
        "## 6. Parts of Speech (POS) Analysis\n",
        "Now, we will conduct a POS analysis to identify the parts of speech:\n",
        "* The code tags each token in the list with its correspoding part of speech (POS) using the **pos_tag** function from **nltk**\n",
        "* Then the first 50 tagged tokens are printed to verify the tagging process."
      ],
      "metadata": {
        "id": "mgyNuKy6Ng6l"
      }
    },
    {
      "cell_type": "code",
      "source": [
        "tuples = pos_tag(tokens)\n",
        "\n",
        "# Displaying the first 50 tagged tokens\n",
        "print(tuples[:50])\n"
      ],
      "metadata": {
        "colab": {
          "base_uri": "https://localhost:8080/"
        },
        "id": "nXMmjF4VNh9h",
        "outputId": "c859b220-4205-4f94-ff36-433e10c76ca1"
      },
      "execution_count": null,
      "outputs": [
        {
          "output_type": "stream",
          "name": "stdout",
          "text": [
            "[('Home', 'NNP'), ('University', 'NNP'), ('of', 'IN'), ('Gdask', 'NNP'), ('Skip', 'NNP'), ('to', 'TO'), ('main', 'JJ'), ('content', 'NN'), ('EN', 'NNP'), ('UniversityAbout', 'NNP'), ('usAuthorities', 'NNS'), ('and', 'CC'), ('AdministrationUG', 'NNP'), ('Mission', 'NNP'), ('and', 'CC'), ('StrategyFacts', 'NNP'), ('and', 'CC'), ('FiguresUG', 'NNP'), ('MapUG', 'NNP'), ('Campus', 'NNP'), ('and', 'CC'), ('its', 'PRP$'), ('developmentHistoryFaculties', 'NNS'), ('and', 'CC'), ('other', 'JJ'), ('unitsNewsEuropean', 'JJ'), ('Charter', 'NNP'), ('for', 'IN'), ('ResearchersIT', 'NNP'), ('ServicesIncoming', 'NNP'), ('studentsErasmus', 'JJ'), ('CandidatesDoctoral', 'NNP'), ('SchoolsFree', 'NNP'), ('moversWhy', 'VBD'), ('StudyUGStudyEducational', 'NNP'), ('OfferStudy', 'NNP'), ('GuideCulture', 'NNP'), ('and', 'CC'), ('sportPolish', 'JJ'), ('Language', 'NNP'), ('CoursesEducation', 'NNP'), ('Verification', 'NNP'), ('RequestDisability', 'NNP'), ('support', 'NN'), ('servicesContactStudent', 'NN'), ('homesResearchResearch', 'NN'), ('areasPublicationsInternational', 'JJ'), ('agreementsConferencesHRSRResponsible', 'JJ'), ('researchFarU', 'NN'), ('research', 'NN')]\n"
          ]
        }
      ]
    },
    {
      "cell_type": "markdown",
      "source": [
        "## 7. Visualization of Results\n",
        "\n",
        "With the following code, we create a **dictionary** to count the occurences of each part of speech (POS) tag in the list of tagged tokens.\n",
        "* It iterates through the tagged tokens and increments the count for each tag in the dictionary\n",
        "* Then, the dictionary with all the counts of each POS tag is printed."
      ],
      "metadata": {
        "id": "kdb0EjE4Nnkn"
      }
    },
    {
      "cell_type": "code",
      "source": [
        "counter_dict = {}\n",
        "\n",
        "for el in tuples:\n",
        "    tag = el[1]\n",
        "    if not tag in counter_dict:\n",
        "        counter_dict[tag] = 1\n",
        "    else:\n",
        "        counter_dict[tag] += 1\n",
        "\n",
        "print(counter_dict)"
      ],
      "metadata": {
        "colab": {
          "base_uri": "https://localhost:8080/"
        },
        "id": "c4P_O2_dai8F",
        "outputId": "d91c2678-df56-4560-ab33-05528525007e"
      },
      "execution_count": null,
      "outputs": [
        {
          "output_type": "stream",
          "name": "stdout",
          "text": [
            "{'NNP': 198, 'IN': 79, 'TO': 8, 'JJ': 55, 'NN': 84, 'NNS': 50, 'CC': 31, 'PRP$': 3, 'VBD': 12, 'DT': 54, 'VBZ': 16, 'RP': 3, 'VBG': 8, 'JJR': 6, 'RBR': 6, 'RB': 10, 'VBN': 8, 'JJS': 3, 'WDT': 2, 'PRP': 6, 'VBP': 7, 'WRB': 3, 'VB': 4, 'CD': 3, 'NNPS': 3, 'MD': 1}\n"
          ]
        }
      ]
    },
    {
      "cell_type": "markdown",
      "source": [
        "Then, we move onto creating 2 lists: one for the keys (POS tags) and one for the values (their respective counts). We print the both lists to verify the contents."
      ],
      "metadata": {
        "id": "dTmjb6nOoc2L"
      }
    },
    {
      "cell_type": "code",
      "source": [
        "\n",
        "keys = []\n",
        "values = []\n",
        "for el in counter_dict:\n",
        "    keys.append(el)\n",
        "    values.append(counter_dict[el])\n",
        "\n",
        "print(keys)\n",
        "print(values)"
      ],
      "metadata": {
        "colab": {
          "base_uri": "https://localhost:8080/"
        },
        "id": "eZspAEJ3aktX",
        "outputId": "7551f473-783d-4d05-9929-9ac47ef02568"
      },
      "execution_count": null,
      "outputs": [
        {
          "output_type": "stream",
          "name": "stdout",
          "text": [
            "['NNP', 'IN', 'TO', 'JJ', 'NN', 'NNS', 'CC', 'PRP$', 'VBD', 'DT', 'VBZ', 'RP', 'VBG', 'JJR', 'RBR', 'RB', 'VBN', 'JJS', 'WDT', 'PRP', 'VBP', 'WRB', 'VB', 'CD', 'NNPS', 'MD']\n",
            "[198, 79, 8, 55, 84, 50, 31, 3, 12, 54, 16, 3, 8, 6, 6, 10, 8, 3, 2, 6, 7, 3, 4, 3, 3, 1]\n"
          ]
        }
      ]
    },
    {
      "cell_type": "markdown",
      "source": [
        "Now, once we have extracted the two lists from the dictionary, we can create a bar chart to visualize frequencies."
      ],
      "metadata": {
        "id": "3PSWn56WoyIi"
      }
    },
    {
      "cell_type": "code",
      "source": [
        "\n",
        "# Creating bar chart\n",
        "plt.figure(figsize=(10, 6))\n",
        "plt.bar(keys, values)\n",
        "plt.xlabel('Parts of Speech')\n",
        "plt.ylabel('Frequency')\n",
        "plt.title('POS Frequency in the Text')\n",
        "plt.xticks(rotation=90)\n",
        "plt.show()\n"
      ],
      "metadata": {
        "colab": {
          "base_uri": "https://localhost:8080/",
          "height": 588
        },
        "id": "gG83ISOJNqH5",
        "outputId": "0f96922f-8bba-4106-8519-6686ff2aeaa2"
      },
      "execution_count": null,
      "outputs": [
        {
          "output_type": "display_data",
          "data": {
            "text/plain": [
              "<Figure size 1000x600 with 1 Axes>"
            ],
            "image/png": "[encoded data removed]"
          },
          "metadata": {}
        }
      ]
    },
    {
      "cell_type": "markdown",
      "source": [
        "#### Here is a short explanation of POS abbreviations from the diagram:\n",
        "\n",
        "1. **NNP (Proper Noun, Singular)**: Names of specific people, places, or organizations (e.g., \"London\", \"John\").\n",
        "2. **IN (Preposition or Subordinating Conjunction)**: Words that show relationships between other words (e.g., \"in\", \"of\", \"like\").\n",
        "3. **TO (\"to\")**: The preposition \"to\", used before a verb (e.g., \"to run\").\n",
        "4. **JJ (Adjective)**: Words that describe or modify nouns (e.g., \"quick\", \"happy\").\n",
        "5. **NN (Noun, Singular or Mass)**: Common nouns that are not proper nouns (e.g., \"dog\", \"car\").\n",
        "6. **NNS (Noun, Plural)**: Plural forms of common nouns (e.g., \"dogs\", \"cars\").\n",
        "7. **CC (Coordinating Conjunction)**: Words that join two elements of equal syntactic importance (e.g., \"and\", \"but\").\n",
        "8. **PRP$ (Possessive Pronoun)**: Pronouns that indicate ownership (e.g., \"my\", \"your\").\n",
        "9. **VBZ (Verb, 3rd Person Singular Present)**: Verbs in the third person singular present tense (e.g., \"runs\", \"is\").\n",
        "10. **DT (Determiner)**: Words that introduce nouns (e.g., \"the\", \"a\", \"this\").\n",
        "11. **VBD (Verb, Past Tense)**: Verbs in the past tense (e.g., \"ran\", \"was\").\n",
        "12. **RP (Particle)**: Words that do not fit easily into other categories but are used in combination with verbs (e.g., \"up\" in \"pick up\").\n",
        "13. **VBG (Verb, Gerund or Present Participle)**: Verbs ending in \"-ing\" (e.g., \"running\", \"being\").\n",
        "14. **JJR (Adjective, Comparative)**: Adjectives used to compare two things (e.g., \"bigger\", \"smaller\").\n",
        "15. **RBR (Adverb, Comparative)**: Adverbs used to compare two actions (e.g., \"better\", \"faster\").\n",
        "16. **RB (Adverb)**: Words that modify verbs, adjectives, or other adverbs (e.g., \"quickly\", \"very\").\n",
        "17. **VBN (Verb, Past Participle)**: Verbs used in perfect tenses or as adjectives (e.g., \"broken\", \"gone\").\n",
        "18. **WDT (Wh-determiner)**: Determiners used to form questions or relative clauses (e.g., \"which\", \"that\").\n",
        "19. **PRP (Personal Pronoun)**: Pronouns referring to specific people or things (e.g., \"he\", \"they\").\n",
        "20. **VB (Verb, Base Form)**: The base form of verbs (e.g., \"run\", \"be\").\n",
        "21. **WRB (Wh-adverb)**: Adverbs used to form questions (e.g., \"when\", \"where\").\n",
        "22. **CD (Cardinal Number)**: Numbers used in counting (e.g., \"one\", \"two\").\n",
        "23. **NNPS (Proper Noun, Plural)**: Plural forms of proper nouns (e.g., \"Smiths\", \"Wednesdays\").\n",
        "24. **MD (Modal Verb)**: Verbs that express necessity or possibility (e.g., \"can\", \"should\")."
      ],
      "metadata": {
        "id": "kqWcC6dupxyR"
      }
    },
    {
      "cell_type": "markdown",
      "source": [
        "## 8. Summary\n",
        "\n",
        "This short linguistic analysis of the text from the specified website focused on identifying the most represented parts of speech (POS).\n",
        "\n",
        "* The results showed that \"NNP\" (proper nouns, singular) was the most frequent POS in the text. This indicates a significant presence of specific names and titles in the given text.\n",
        "* Other frequently occurring POS included \"IN\" (prepositions) and \"TO\" (infinitives) and DT (determiners)\n",
        "* Additionally, \"JJ\" (adjectives) and \"NN\" (common nouns, singular) were noticeable but less prevalent than \"NNP\""
      ],
      "metadata": {
        "id": "2kP9x5HBNtSh"
      }
    }
  ]
}